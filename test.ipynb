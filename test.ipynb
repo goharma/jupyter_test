{
 "cells": [
  {
   "cell_type": "code",
   "execution_count": null,
   "id": "cc12300c",
   "metadata": {},
   "outputs": [],
   "source": [
    "echo \"Hello\""
   ]
  }
 ],
 "metadata": {
  "language_info": {
   "name": "python"
  }
 },
 "nbformat": 4,
 "nbformat_minor": 5
}
